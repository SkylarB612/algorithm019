{
 "cells": [
  {
   "cell_type": "markdown",
   "metadata": {},
   "source": [
    "给你一个包含 n 个整数的数组 nums，判断 nums 中是否存在三个元素 a，b，c ，使得 a + b + c = 0 ？请你找出所有满足条件且不重复的三元组。\n",
    "\n",
    "注意：答案中不可以包含重复的三元组。\n",
    "\n",
    " \n",
    "\n",
    "示例：\n",
    "\n",
    "给定数组 nums = [-1, 0, 1, 2, -1, -4]，\n",
    "\n",
    "满足要求的三元组集合为：\n",
    "[\n",
    "  [-1, 0, 1],\n",
    "  [-1, -1, 2]\n",
    "]\n",
    "\n",
    "\n",
    "链接：https://leetcode-cn.com/problems/3sum\n"
   ]
  },
  {
   "cell_type": "code",
   "execution_count": 2,
   "metadata": {},
   "outputs": [],
   "source": [
    "from typing import List"
   ]
  },
  {
   "cell_type": "code",
   "execution_count": null,
   "metadata": {},
   "outputs": [],
   "source": []
  },
  {
   "cell_type": "code",
   "execution_count": null,
   "metadata": {},
   "outputs": [],
   "source": []
  },
  {
   "cell_type": "code",
   "execution_count": null,
   "metadata": {},
   "outputs": [],
   "source": []
  },
  {
   "cell_type": "code",
   "execution_count": 7,
   "metadata": {},
   "outputs": [],
   "source": [
    "class Solution:\n",
    "    def threeSum(self, nums: List[int]) -> List[List[int]]:\n",
    "        n=len(nums)\n",
    "        res=[]\n",
    "        if n<3:\n",
    "            return res\n",
    "        nums.sort()\n",
    "        for i in range(n-2):\n",
    "            if i>0 and nums[i]==nums[i-1]:#去重剪枝\n",
    "                continue\n",
    "            if nums[i]+sum(nums[i+1:i+3])>0:#如果固定数与剩下数组的最小的两个数都大于0，则后续循环就没必要了\n",
    "                break\n",
    "            if nums[i]+sum(nums[-1:-3:-1])<0:#如果固定数，与剩下数组的最大的两个数都小于0，则移动固定数，进入下一次遍历\n",
    "                continue\n",
    "            left,right=i+1,n-1#剩下的两个数采用双指针法\n",
    "            while left<right:\n",
    "                count=nums[i]+nums[left]+nums[right]\n",
    "                if count<0:# 如果当前和小于0, 收缩左边界\n",
    "                    left+=1\n",
    "                elif count>0:# 如果当前和大于0, 收缩左边界\n",
    "                    right-=1\n",
    "                else:\n",
    "                    res.append([nums[i],nums[left],nums[right]])\n",
    "                    # 求得正确解后，去重（剪枝）\n",
    "                    while left < right and nums[left] == nums[left + 1]:\n",
    "                        left += 1\n",
    "                    # 求得正确解后，去重（剪枝）\n",
    "                    while left < right and nums[right] == nums[right - 1]:\n",
    "                        right -= 1\n",
    "                    # 在求得正确解，并且剪枝后，仅收缩移动一个指针，都不会是正确解；\n",
    "                    # 因此应收缩移动双指针，直接排除不符合解的情况，减少运算次数\n",
    "                    left += 1\n",
    "                    right -= 1\n",
    "            return res"
   ]
  },
  {
   "cell_type": "code",
   "execution_count": 9,
   "metadata": {},
   "outputs": [
    {
     "data": {
      "text/plain": [
       "[[-1, -1, 2], [-1, 0, 1]]"
      ]
     },
     "execution_count": 9,
     "metadata": {},
     "output_type": "execute_result"
    }
   ],
   "source": [
    "Solution().threeSum([-1, 0, 1, 2, -1, -4])"
   ]
  },
  {
   "cell_type": "code",
   "execution_count": null,
   "metadata": {},
   "outputs": [],
   "source": []
  },
  {
   "cell_type": "code",
   "execution_count": null,
   "metadata": {},
   "outputs": [],
   "source": []
  },
  {
   "cell_type": "code",
   "execution_count": null,
   "metadata": {},
   "outputs": [],
   "source": []
  },
  {
   "cell_type": "code",
   "execution_count": null,
   "metadata": {},
   "outputs": [],
   "source": []
  },
  {
   "cell_type": "code",
   "execution_count": null,
   "metadata": {},
   "outputs": [],
   "source": []
  }
 ],
 "metadata": {
  "kernelspec": {
   "display_name": "Python 3",
   "language": "python",
   "name": "python3"
  },
  "language_info": {
   "codemirror_mode": {
    "name": "ipython",
    "version": 3
   },
   "file_extension": ".py",
   "mimetype": "text/x-python",
   "name": "python",
   "nbconvert_exporter": "python",
   "pygments_lexer": "ipython3",
   "version": "3.7.3"
  }
 },
 "nbformat": 4,
 "nbformat_minor": 4
}
